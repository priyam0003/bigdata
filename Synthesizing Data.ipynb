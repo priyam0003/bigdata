{
 "cells": [
  {
   "cell_type": "markdown",
   "id": "7baaee82-23cd-46fc-bf07-b82b745fa88d",
   "metadata": {
    "tags": []
   },
   "source": [
    "## Creating a database in MongoDB\n",
    "\n",
    "### Step 1: Find or synthesize a JSON dataset"
   ]
  },
  {
   "cell_type": "markdown",
   "id": "029063ff-a233-41d8-b5ec-1e00c1083033",
   "metadata": {},
   "source": [
    "Our document data will look like the following example:\n",
    "\n",
    "Structure of the data:\n",
    "\n",
    "```json\n",
    "{\n",
    "  _id: 1,\n",
    "  weights: 37,  \n",
    "  product_info: {\n",
    "    color: 'Black',  \n",
    "    product_names: 'Laptop'  \n",
    "  },\n",
    "  price: '30325', \n",
    "  pieces_sold: [28, 15, 47], \n",
    "  size: 12  \n",
    "}\n",
    "```"
   ]
  },
  {
   "cell_type": "code",
   "execution_count": 47,
   "id": "4ce45c96-f30e-43f7-b581-cb6195446d05",
   "metadata": {},
   "outputs": [],
   "source": [
    "from random import randint\n",
    "import json\n",
    "\n",
    "##Synthesis of the data\n",
    "products = []\n",
    "product_names = ['Laptop','Smartphone','Charger','Headphones','Monitor','Keyboard','Mouse']\n",
    "color = ['Red','Blue','Cyan','Black','Blue','White']\n",
    "\n",
    "for id  in range(1, 50):\n",
    "\n",
    "    weights = randint(10, 100),\n",
    "    \n",
    "    product_info = {   \n",
    "        'color': color[randint(0,(len(color)-1))],\n",
    "        'product_names': product_names[randint(0,(len(product_names)-1))]\n",
    "    }    \n",
    "    \n",
    "    price = '' \n",
    "    for j in range(5):\n",
    "        price += str(randint(0,5))\n",
    "\n",
    "    pieces_sold = [randint(10, 50) for x in range(randint(1,5))]\n",
    "    size = randint(10, 20)\n",
    "\n",
    "    product_doc = { # here will build the final document\n",
    "        '_id': id,\n",
    "        'weights': weights,\n",
    "        'product_info': product_info, # this is an embedded document\n",
    "        'price': price, # this is an array in the document\n",
    "        'pieces_sold': pieces_sold,\n",
    "        'size': size\n",
    "    }\n",
    "    products.append(product_doc) \n"
   ]
  },
  {
   "cell_type": "markdown",
   "id": "5497b9f2",
   "metadata": {},
   "source": [
    "### Step 2: Storing the synthesied data into the JSON file"
   ]
  },
  {
   "cell_type": "code",
   "execution_count": 48,
   "id": "4d9f8ef4",
   "metadata": {},
   "outputs": [],
   "source": [
    "import json\n",
    "\n",
    "with open(\"products.json\", \"w\") as fin:\n",
    "    for product in products:\n",
    "        json.dump(product, fin, default=str)  \n",
    "        fin.write('\\n')"
   ]
  }
 ],
 "metadata": {
  "kernelspec": {
   "display_name": "base",
   "language": "python",
   "name": "python3"
  },
  "language_info": {
   "codemirror_mode": {
    "name": "ipython",
    "version": 3
   },
   "file_extension": ".py",
   "mimetype": "text/x-python",
   "name": "python",
   "nbconvert_exporter": "python",
   "pygments_lexer": "ipython3",
   "version": "3.9.12"
  }
 },
 "nbformat": 4,
 "nbformat_minor": 5
}
