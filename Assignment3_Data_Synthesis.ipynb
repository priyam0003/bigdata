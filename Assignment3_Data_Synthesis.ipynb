{
 "cells": [
  {
   "cell_type": "markdown",
   "id": "a5d42a29",
   "metadata": {},
   "source": [
    "# Assignment3 "
   ]
  },
  {
   "cell_type": "markdown",
   "id": "b88557fa",
   "metadata": {},
   "source": [
    "### Synthesize the data "
   ]
  },
  {
   "cell_type": "markdown",
   "id": "c1843a76",
   "metadata": {},
   "source": [
    "Here we are synthesizing data of a books list available in library."
   ]
  },
  {
   "cell_type": "markdown",
   "id": "1abd0f2f",
   "metadata": {},
   "source": [
    "The data have fields: Title, author, genre, year_published, copies_available, total_copies"
   ]
  },
  {
   "cell_type": "code",
   "execution_count": 3,
   "id": "ad24c676",
   "metadata": {},
   "outputs": [],
   "source": [
    "import random\n",
    "\n",
    "# List of books with corresponding authors.\n",
    "books_info = [\n",
    "    {\"title\": 'The Catcher in the Rye', \"author\": 'J.D. Salinger'},\n",
    "    {\"title\": 'To Kill a Mockingbird', \"author\": 'Harper Lee'},\n",
    "    {\"title\": '1984', \"author\": 'George Orwell'},\n",
    "    {\"title\": 'The Great Gatsby', \"author\": 'F. Scott Fitzgerald'},\n",
    "    {\"title\": 'Moby Dick', \"author\": 'Herman Melville'},\n",
    "    {\"title\": 'Pride and Prejudice', \"author\": 'Jane Austen'},\n",
    "    {\"title\": 'Crime and Punishment', \"author\": 'Fyodor Dostoevsky'},\n",
    "    {\"title\": 'War and Peace', \"author\": 'Leo Tolstoy'},\n",
    "    {\"title\": 'The Hobbit', \"author\": 'J.R.R. Tolkien'},\n",
    "    {\"title\": 'Alice in Wonderland', \"author\": 'Lewis Carroll'},\n",
    "    {\"title\": 'Jane Eyre', \"author\": 'Charlotte Bronte'},\n",
    "    {\"title\": 'Wuthering Heights', \"author\": 'Emily Bronte'},\n",
    "    {\"title\": 'The Adventures of Huckleberry Finn', \"author\": 'Mark Twain'},\n",
    "    {\"title\": 'Great Expectations', \"author\": 'Charles Dickens'},\n",
    "    {\"title\": 'The Lord of the Rings', \"author\": 'J.R.R. Tolkien'},\n",
    "    {\"title\": 'A Tale of Two Cities', \"author\": 'Charles Dickens'},\n",
    "    {\"title\": 'Brave New World', \"author\": 'Aldous Huxley'},\n",
    "    {\"title\": 'Animal Farm', \"author\": 'George Orwell'},\n",
    "    {\"title\": 'Fahrenheit 451', \"author\": 'Ray Bradbury'},\n",
    "    {\"title\": 'The Odyssey', \"author\": 'Homer'},\n",
    "    {\"title\": 'Catch-22', \"author\": 'Joseph Heller'},\n",
    "    {\"title\": 'The Brothers Karamazov', \"author\": 'Fyodor Dostoevsky'},\n",
    "    {\"title\": 'Lord of the Flies', \"author\": 'William Golding'},\n",
    "    {\"title\": 'Don Quixote', \"author\": 'Miguel de Cervantes'}\n",
    "]\n",
    "\n",
    "\n",
    "# Genres list\n",
    "genres = ['Fantasy', 'Historical', 'Dystopian', 'Classic']\n",
    "\n",
    "books = []\n",
    "\n",
    "for book_info in books_info:\n",
    "    book = {\n",
    "        \"title\": book_info['title'],\n",
    "        \"author\": book_info['author'],\n",
    "        \"genre\": random.choice(genres),\n",
    "        \"year_published\": random.randint(1900, 2022),\n",
    "        \"copies_available\": random.randint(1, 5),\n",
    "        \"total_copies\": random.randint(5, 20)\n",
    "    }\n",
    "    books.append(book)\n",
    "\n"
   ]
  },
  {
   "cell_type": "markdown",
   "id": "b11876e8",
   "metadata": {},
   "source": [
    "### Storing the synthesied data into the JSON file"
   ]
  },
  {
   "cell_type": "code",
   "execution_count": 4,
   "id": "13d510a2",
   "metadata": {},
   "outputs": [],
   "source": [
    "import json\n",
    "\n",
    "with open(\"books.json\", \"w\") as fin:\n",
    "    for book in books:\n",
    "        json.dump(book, fin, default=str)  \n",
    "        fin.write('\\n')"
   ]
  },
  {
   "cell_type": "code",
   "execution_count": null,
   "id": "e1cd8c91",
   "metadata": {},
   "outputs": [],
   "source": []
  },
  {
   "cell_type": "code",
   "execution_count": null,
   "id": "2293c4a2",
   "metadata": {},
   "outputs": [],
   "source": []
  }
 ],
 "metadata": {
  "kernelspec": {
   "display_name": "Python 3 (ipykernel)",
   "language": "python",
   "name": "python3"
  },
  "language_info": {
   "codemirror_mode": {
    "name": "ipython",
    "version": 3
   },
   "file_extension": ".py",
   "mimetype": "text/x-python",
   "name": "python",
   "nbconvert_exporter": "python",
   "pygments_lexer": "ipython3",
   "version": "3.10.9"
  }
 },
 "nbformat": 4,
 "nbformat_minor": 5
}
